{
  "nbformat": 4,
  "nbformat_minor": 0,
  "metadata": {
    "colab": {
      "name": "KaggleNYT.ipynb",
      "provenance": [],
      "authorship_tag": "ABX9TyOLwI/zfPFe+VotJpN36Cqx",
      "include_colab_link": true
    },
    "kernelspec": {
      "name": "python3",
      "display_name": "Python 3"
    }
  },
  "cells": [
    {
      "cell_type": "markdown",
      "metadata": {
        "id": "view-in-github",
        "colab_type": "text"
      },
      "source": [
        "<a href=\"https://colab.research.google.com/github/jppyykm/Playground/blob/master/KaggleNYT.ipynb\" target=\"_parent\"><img src=\"https://colab.research.google.com/assets/colab-badge.svg\" alt=\"Open In Colab\"/></a>"
      ]
    },
    {
      "cell_type": "markdown",
      "metadata": {
        "id": "Zs6qXd3r3TbY"
      },
      "source": [
        "#Exploring a Dataset"
      ]
    },
    {
      "cell_type": "markdown",
      "metadata": {
        "id": "zP2Q-t8aWbIC"
      },
      "source": [
        "We use the dataset provided by Tumanov Alexander.\r\n",
        "\r\n",
        "https://www.kaggle.com/tumanovalexander/nyt-articles-data/code"
      ]
    },
    {
      "cell_type": "markdown",
      "metadata": {
        "id": "P-cRKAj4Pkp_"
      },
      "source": [
        "This dataset presumes 100 years worth of news from the New York Times."
      ]
    },
    {
      "cell_type": "markdown",
      "metadata": {
        "id": "BoqwwjbvWVXp"
      },
      "source": [
        "#Part 1: Acquisition"
      ]
    },
    {
      "cell_type": "code",
      "metadata": {
        "colab": {
          "base_uri": "https://localhost:8080/",
          "height": 141
        },
        "id": "PMScNXpnCpEr",
        "outputId": "2f060c3c-4274-489d-d39d-2670348f6969"
      },
      "source": [
        "'''          UNCOMMENT TOP AND BOTTOM LINES ONCE PER SESSION\r\n",
        "\r\n",
        "!pip install -q kaggle  #Kaggle module makes working with datasets simpler\r\n",
        "from google.colab import files\r\n",
        "\r\n",
        "files.upload()     #You will need a kaggle key to log in. \r\n",
        "                   #Google fu: kaggle key.\r\n",
        "\r\n",
        "!rm -r sample_data/ #delete sample data\r\n",
        "!mkdir ~/.kaggle    #create directory\r\n",
        "!cp kaggle.json ~/.kaggle/ #copy file to dir\r\n",
        "!chmod 600 ~/.kaggle/kaggle.json #add permisions\r\n",
        "!kaggle datasets download -d tumanovalexander/nyt-articles-data #over 1.2 gigabytes\r\n",
        "!unzip nyt-articles-data.zip\r\n",
        "'''"
      ],
      "execution_count": 1,
      "outputs": [
        {
          "output_type": "execute_result",
          "data": {
            "application/vnd.google.colaboratory.intrinsic+json": {
              "type": "string"
            },
            "text/plain": [
              "'          UNCOMMENT TOP AND BOTTOM LINES ONCE PER SESSION\\n\\n!pip install -q kaggle  #Kaggle module makes working with datasets simpler\\nfrom google.colab import files\\n\\nfiles.upload()     #You will need a kaggle key to log in. \\n                   #Google fu: kaggle key.\\n\\n!rm -r sample_data/ #delete sample data\\n!mkdir ~/.kaggle    #create directory\\n!cp kaggle.json ~/.kaggle/ #copy file to dir\\n!chmod 600 ~/.kaggle/kaggle.json #add permisions\\n!kaggle datasets download -d tumanovalexander/nyt-articles-data #over 1.2 gigabytes\\n!unzip nyt-articles-data.zip\\n'"
            ]
          },
          "metadata": {
            "tags": []
          },
          "execution_count": 1
        }
      ]
    },
    {
      "cell_type": "code",
      "metadata": {
        "colab": {
          "base_uri": "https://localhost:8080/"
        },
        "id": "fu3azhPfQwJU",
        "outputId": "68d9a0fc-dbb7-40f9-ee8b-04352d3298e1"
      },
      "source": [
        "#Bellow you can see the file kaggle.json which is the kaggle key. \r\n",
        "#We need this file to access it, open a kaggle account, \r\n",
        "#it is located in the settings in the kaggle website.\r\n",
        "!ls"
      ],
      "execution_count": 2,
      "outputs": [
        {
          "output_type": "stream",
          "text": [
            " df_1920.csv   df_1941.csv   df_1962.csv   df_1983.csv\t df_2004.csv\n",
            " df_1921.csv   df_1942.csv   df_1963.csv   df_1984.csv\t df_2005.csv\n",
            " df_1922.csv   df_1943.csv   df_1964.csv   df_1985.csv\t df_2006.csv\n",
            " df_1923.csv   df_1944.csv   df_1965.csv   df_1986.csv\t df_2007.csv\n",
            " df_1924.csv   df_1945.csv   df_1966.csv   df_1987.csv\t df_2008.csv\n",
            " df_1925.csv   df_1946.csv   df_1967.csv   df_1988.csv\t df_2009.csv\n",
            " df_1926.csv   df_1947.csv   df_1968.csv   df_1989.csv\t df_2010.csv\n",
            " df_1927.csv   df_1948.csv   df_1969.csv   df_1990.csv\t df_2011.csv\n",
            " df_1928.csv   df_1949.csv   df_1970.csv   df_1991.csv\t df_2012.csv\n",
            " df_1929.csv   df_1950.csv   df_1971.csv   df_1992.csv\t df_2013.csv\n",
            " df_1930.csv   df_1951.csv   df_1972.csv   df_1993.csv\t df_2014.csv\n",
            " df_1931.csv   df_1952.csv   df_1973.csv   df_1994.csv\t df_2015.csv\n",
            " df_1932.csv   df_1953.csv   df_1974.csv   df_1995.csv\t df_2016.csv\n",
            " df_1933.csv   df_1954.csv   df_1975.csv   df_1996.csv\t df_2017.csv\n",
            " df_1934.csv   df_1955.csv   df_1976.csv   df_1997.csv\t df_2018.csv\n",
            " df_1935.csv   df_1956.csv   df_1977.csv   df_1998.csv\t df_2019.csv\n",
            " df_1936.csv   df_1957.csv   df_1978.csv   df_1999.csv\t df_2020.csv\n",
            " df_1937.csv   df_1958.csv   df_1979.csv   df_2000.csv\t'kaggle (1).json'\n",
            " df_1938.csv   df_1959.csv   df_1980.csv   df_2001.csv\t kaggle.json\n",
            " df_1939.csv   df_1960.csv   df_1981.csv   df_2002.csv\t nyt-articles-data.zip\n",
            " df_1940.csv   df_1961.csv   df_1982.csv   df_2003.csv\n"
          ],
          "name": "stdout"
        }
      ]
    },
    {
      "cell_type": "markdown",
      "metadata": {
        "id": "eN1Wwqjv3gEQ"
      },
      "source": [
        "The data is very neatly organized per year in a csv file."
      ]
    },
    {
      "cell_type": "markdown",
      "metadata": {
        "id": "VFSZiaG3fG2Q"
      },
      "source": [
        "#Part 2: Exploration"
      ]
    },
    {
      "cell_type": "markdown",
      "metadata": {
        "id": "JtpFQzxjRaev"
      },
      "source": [
        "Let's look at the size of the files."
      ]
    },
    {
      "cell_type": "code",
      "metadata": {
        "colab": {
          "base_uri": "https://localhost:8080/"
        },
        "id": "MWhY2DFkSFNe",
        "outputId": "e73bc367-4eae-48bf-c419-29ff320414e4"
      },
      "source": [
        "!for entry in $(ls); do du -s \"$entry\"; done | sort -n"
      ],
      "execution_count": 3,
      "outputs": [
        {
          "output_type": "stream",
          "text": [
            "du: cannot access 'kaggle': No such file or directory\n",
            "du: cannot access '(1).json': No such file or directory\n",
            "4\tkaggle.json\n",
            "1756\tdf_1924.csv\n",
            "5492\tdf_1979.csv\n",
            "9756\tdf_2018.csv\n",
            "13376\tdf_2020.csv\n",
            "15396\tdf_2019.csv\n",
            "17188\tdf_2017.csv\n",
            "19172\tdf_1923.csv\n",
            "19992\tdf_2016.csv\n",
            "20044\tdf_1978.csv\n",
            "20540\tdf_1925.csv\n",
            "21884\tdf_1980.csv\n",
            "22144\tdf_1981.csv\n",
            "22912\tdf_2015.csv\n",
            "24832\tdf_1926.csv\n",
            "24924\tdf_1922.csv\n",
            "25176\tdf_2014.csv\n",
            "25336\tdf_2013.csv\n",
            "27224\tdf_1963.csv\n",
            "27808\tdf_1920.csv\n",
            "27868\tdf_2011.csv\n",
            "28320\tdf_1945.csv\n",
            "29308\tdf_1965.csv\n",
            "29468\tdf_1944.csv\n",
            "29560\tdf_2012.csv\n",
            "30104\tdf_1943.csv\n",
            "31000\tdf_1969.csv\n",
            "31312\tdf_1968.csv\n",
            "31600\tdf_2010.csv\n",
            "31660\tdf_1962.csv\n",
            "31788\tdf_1946.csv\n",
            "32172\tdf_1967.csv\n",
            "32500\tdf_1960.csv\n",
            "32668\tdf_1958.csv\n",
            "32720\tdf_1957.csv\n",
            "33216\tdf_1955.csv\n",
            "33344\tdf_1959.csv\n",
            "33812\tdf_1961.csv\n",
            "33848\tdf_1947.csv\n",
            "34204\tdf_1977.csv\n",
            "34236\tdf_1921.csv\n",
            "34292\tdf_1966.csv\n",
            "34484\tdf_1954.csv\n",
            "34592\tdf_2007.csv\n",
            "34836\tdf_1948.csv\n",
            "35268\tdf_1976.csv\n",
            "35420\tdf_1953.csv\n",
            "35504\tdf_1970.csv\n",
            "35704\tdf_1951.csv\n",
            "35900\tdf_1956.csv\n",
            "36160\tdf_1950.csv\n",
            "36356\tdf_1949.csv\n",
            "36688\tdf_1952.csv\n",
            "36980\tdf_1940.csv\n",
            "37848\tdf_1942.csv\n",
            "38304\tdf_1971.csv\n",
            "38344\tdf_2008.csv\n",
            "39048\tdf_1939.csv\n",
            "39216\tdf_1941.csv\n",
            "39352\tdf_1935.csv\n",
            "40428\tdf_1933.csv\n",
            "41080\tdf_1932.csv\n",
            "42252\tdf_1927.csv\n",
            "42792\tdf_1934.csv\n",
            "43004\tdf_1928.csv\n",
            "45028\tdf_1936.csv\n",
            "46044\tdf_1937.csv\n",
            "46696\tdf_1964.csv\n",
            "46816\tdf_1930.csv\n",
            "46856\tdf_1929.csv\n",
            "46868\tdf_1938.csv\n",
            "46956\tdf_1975.csv\n",
            "47044\tdf_2009.csv\n",
            "47116\tdf_1931.csv\n",
            "47448\tdf_1972.csv\n",
            "47700\tdf_1974.csv\n",
            "48292\tdf_1989.csv\n",
            "49316\tdf_1988.csv\n",
            "50224\tdf_1997.csv\n",
            "50280\tdf_1987.csv\n",
            "51656\tdf_1973.csv\n",
            "54480\tdf_1998.csv\n",
            "55532\tdf_1996.csv\n",
            "57776\tdf_1999.csv\n",
            "58984\tdf_2000.csv\n",
            "60660\tdf_1990.csv\n",
            "61544\tdf_2001.csv\n",
            "62584\tdf_2003.csv\n",
            "64512\tdf_2002.csv\n",
            "66476\tdf_2004.csv\n",
            "69244\tdf_1993.csv\n",
            "69300\tdf_1994.csv\n",
            "73244\tdf_1995.csv\n",
            "73572\tdf_1992.csv\n",
            "82180\tdf_1983.csv\n",
            "82552\tdf_1991.csv\n",
            "83676\tdf_1982.csv\n",
            "84528\tdf_1985.csv\n",
            "85636\tdf_1984.csv\n",
            "88324\tdf_1986.csv\n",
            "92836\tdf_2005.csv\n",
            "105940\tdf_2006.csv\n",
            "1850280\tnyt-articles-data.zip\n"
          ],
          "name": "stdout"
        }
      ]
    },
    {
      "cell_type": "markdown",
      "metadata": {
        "id": "Q4yAE71i387J"
      },
      "source": [
        "How interesting. There is an odd distribution in the file sizes. Some years are larger than others. There is some general trend with notable outliers. The initial impression of orderly data begins to juxtapose with this last observation. Let's arbitrarly look into the 1939 file."
      ]
    },
    {
      "cell_type": "code",
      "metadata": {
        "colab": {
          "base_uri": "https://localhost:8080/"
        },
        "id": "WNSy6-BEIYhR",
        "outputId": "766b603f-4ae6-40f4-ee94-ef6ab56de7c4"
      },
      "source": [
        "import pandas as pd  #If you are unfamiliar with Pandas, think of a better spreadsheet\r\n",
        "import numpy as np   #If you are familiar, disregard that last comment.\r\n",
        "df_1939 = pd.read_csv('df_1939.csv')\r\n",
        "df_1939.describe"
      ],
      "execution_count": 4,
      "outputs": [
        {
          "output_type": "execute_result",
          "data": {
            "text/plain": [
              "<bound method NDFrame.describe of         Unnamed: 0  year                                           sentence\n",
              "0                0  1939  Peace work discussed; por Program Pushed For W...\n",
              "1                1  1939  Lebrun New Yr reception LEBRUN EXPRESSES FRENC...\n",
              "2                2  1939  Major S. Fullerton Weaver, of 298 Park Avenue,...\n",
              "3                3  1939  Jewish Labor Com sends fund to aid Polish Jews...\n",
              "4                4  1939  Port Richmond, S I; paper warehouse destroyed ...\n",
              "...            ...   ...                                                ...\n",
              "240940      240940  1939                              LOCALLY DRESSED MEATS\n",
              "240941      240941  1939        Meetings for Dividends Listed for This Week\n",
              "240942      240942  1939       Personnel changes Railroad's Manager Retires\n",
              "240943      240943  1939  Contributions (1939 Drive) GIFTS TO NEEDIEST C...\n",
              "240944      240944  1939   BANK SUPERVISORS PICKED; National Association...\n",
              "\n",
              "[240945 rows x 3 columns]>"
            ]
          },
          "metadata": {
            "tags": []
          },
          "execution_count": 4
        }
      ]
    },
    {
      "cell_type": "code",
      "metadata": {
        "colab": {
          "base_uri": "https://localhost:8080/",
          "height": 53
        },
        "id": "RFhDSFn6MgbL",
        "outputId": "34620929-f650-4e55-e642-75808a8c6d52"
      },
      "source": [
        "#first element is not a sentence. Perhaps Tumanov meant sentences.\r\n",
        "df_1939.iloc[0,2]"
      ],
      "execution_count": 7,
      "outputs": [
        {
          "output_type": "execute_result",
          "data": {
            "application/vnd.google.colaboratory.intrinsic+json": {
              "type": "string"
            },
            "text/plain": [
              "'Peace work discussed; por Program Pushed For World Peace; Henriette Hart in New Post Asks Womanhood to Join in a United Front'"
            ]
          },
          "metadata": {
            "tags": []
          },
          "execution_count": 7
        }
      ]
    },
    {
      "cell_type": "code",
      "metadata": {
        "colab": {
          "base_uri": "https://localhost:8080/",
          "height": 203
        },
        "id": "DZzVP26JAv2h",
        "outputId": "72a44016-1f2a-48f6-90c8-be4880be8752"
      },
      "source": [
        "df_1939.head()"
      ],
      "execution_count": 5,
      "outputs": [
        {
          "output_type": "execute_result",
          "data": {
            "text/html": [
              "<div>\n",
              "<style scoped>\n",
              "    .dataframe tbody tr th:only-of-type {\n",
              "        vertical-align: middle;\n",
              "    }\n",
              "\n",
              "    .dataframe tbody tr th {\n",
              "        vertical-align: top;\n",
              "    }\n",
              "\n",
              "    .dataframe thead th {\n",
              "        text-align: right;\n",
              "    }\n",
              "</style>\n",
              "<table border=\"1\" class=\"dataframe\">\n",
              "  <thead>\n",
              "    <tr style=\"text-align: right;\">\n",
              "      <th></th>\n",
              "      <th>Unnamed: 0</th>\n",
              "      <th>year</th>\n",
              "      <th>sentence</th>\n",
              "    </tr>\n",
              "  </thead>\n",
              "  <tbody>\n",
              "    <tr>\n",
              "      <th>0</th>\n",
              "      <td>0</td>\n",
              "      <td>1939</td>\n",
              "      <td>Peace work discussed; por Program Pushed For W...</td>\n",
              "    </tr>\n",
              "    <tr>\n",
              "      <th>1</th>\n",
              "      <td>1</td>\n",
              "      <td>1939</td>\n",
              "      <td>Lebrun New Yr reception LEBRUN EXPRESSES FRENC...</td>\n",
              "    </tr>\n",
              "    <tr>\n",
              "      <th>2</th>\n",
              "      <td>2</td>\n",
              "      <td>1939</td>\n",
              "      <td>Major S. Fullerton Weaver, of 298 Park Avenue,...</td>\n",
              "    </tr>\n",
              "    <tr>\n",
              "      <th>3</th>\n",
              "      <td>3</td>\n",
              "      <td>1939</td>\n",
              "      <td>Jewish Labor Com sends fund to aid Polish Jews...</td>\n",
              "    </tr>\n",
              "    <tr>\n",
              "      <th>4</th>\n",
              "      <td>4</td>\n",
              "      <td>1939</td>\n",
              "      <td>Port Richmond, S I; paper warehouse destroyed ...</td>\n",
              "    </tr>\n",
              "  </tbody>\n",
              "</table>\n",
              "</div>"
            ],
            "text/plain": [
              "   Unnamed: 0  year                                           sentence\n",
              "0           0  1939  Peace work discussed; por Program Pushed For W...\n",
              "1           1  1939  Lebrun New Yr reception LEBRUN EXPRESSES FRENC...\n",
              "2           2  1939  Major S. Fullerton Weaver, of 298 Park Avenue,...\n",
              "3           3  1939  Jewish Labor Com sends fund to aid Polish Jews...\n",
              "4           4  1939  Port Richmond, S I; paper warehouse destroyed ..."
            ]
          },
          "metadata": {
            "tags": []
          },
          "execution_count": 5
        }
      ]
    },
    {
      "cell_type": "markdown",
      "metadata": {
        "id": "th0Zg-hl6anM"
      },
      "source": [
        "So. The csv file contains 3 columns: an index number. A year, in this case all values of 1939. Therefore there is no cronological conection between these text elements other than their year. Lastly the text labeled 'sentence'. \r\n",
        "\r\n",
        "There are over 240,000 rows."
      ]
    },
    {
      "cell_type": "code",
      "metadata": {
        "colab": {
          "base_uri": "https://localhost:8080/"
        },
        "id": "RYvQz3SUVRaf",
        "outputId": "53393ec4-a4dd-4281-fa64-d2f585a71725"
      },
      "source": [
        "type(df_1939['sentence'])"
      ],
      "execution_count": 6,
      "outputs": [
        {
          "output_type": "execute_result",
          "data": {
            "text/plain": [
              "pandas.core.series.Series"
            ]
          },
          "metadata": {
            "tags": []
          },
          "execution_count": 6
        }
      ]
    },
    {
      "cell_type": "code",
      "metadata": {
        "colab": {
          "base_uri": "https://localhost:8080/"
        },
        "id": "q5UYaKxqO1jF",
        "outputId": "cb7d35bd-6763-44d7-fe81-86a91f2da1e3"
      },
      "source": [
        "%%time\r\n",
        "#This is ineficient. Future self. \r\n",
        "list_of_strings = [str(df_1939.iloc[x,2]) for x in range(0,df_1939.shape[0])]\r\n",
        "len_list = [len(x) for x in list_of_strings]\r\n",
        "idx = [x for x in range(0,len(len_list))]\r\n",
        "print(\"Characters in element\")\r\n",
        "print('Mean:  ',np.mean(len_list))\r\n",
        "print('Median:',np.median(len_list),'\\n\\n')\r\n"
      ],
      "execution_count": 12,
      "outputs": [
        {
          "output_type": "stream",
          "text": [
            "Characters in element\n",
            "Mean:   151.42962501815768\n",
            "Median: 103.0 \n",
            "\n",
            "\n",
            "CPU times: user 6.45 s, sys: 9.88 ms, total: 6.46 s\n",
            "Wall time: 6.49 s\n"
          ],
          "name": "stdout"
        }
      ]
    },
    {
      "cell_type": "markdown",
      "metadata": {
        "id": "gQu6LJaFK-ay"
      },
      "source": [
        "This datasest resembles one of tweets by the looks of it."
      ]
    },
    {
      "cell_type": "code",
      "metadata": {
        "id": "ZnADmpBvi9yk"
      },
      "source": [
        "#Let's calculate the number of characters per row.\r\n",
        "element_length = df_1939['sentence'].str.len()\r\n",
        "#And quickplot it\r\n",
        "plt.style.use('ggplot')\r\n",
        "import matplotlib.pyplot as plt\r\n",
        "element_length.plot()\r\n",
        "plt.show()"
      ],
      "execution_count": null,
      "outputs": []
    },
    {
      "cell_type": "markdown",
      "metadata": {
        "id": "v0l4SO6U8vAI"
      },
      "source": [
        "Ok. This is peculiar. The taller lines of over 5,000 characters have the length of a typical news article.The lines seem too thick, let's refine the plot."
      ]
    },
    {
      "cell_type": "code",
      "metadata": {
        "collapsed": true,
        "id": "R61k7PstZ-Wh"
      },
      "source": [
        "import matplotlib as mpl\r\n",
        "mpl.rcParams.update(mpl.rcParamsDefault)  #RESET DEFAULT PARAMETERS\r\n",
        "plt.plot(idx, len_list, linewidth=0.10)\r\n",
        "plt.xlabel('Example index number')\r\n",
        "plt.ylabel('Number of characters')\r\n",
        "\r\n",
        "plt.suptitle('Element String Length')\r\n",
        "plt.show()"
      ],
      "execution_count": null,
      "outputs": []
    },
    {
      "cell_type": "code",
      "metadata": {
        "id": "_I-q0RRiamJV"
      },
      "source": [
        "#The clearer it gets the fuzzier it becomes."
      ],
      "execution_count": null,
      "outputs": []
    },
    {
      "cell_type": "code",
      "metadata": {
        "id": "ueOvVRPbEXmG"
      },
      "source": [
        "plt.xlabel('Example index number')\r\n",
        "plt.ylabel('Number of characters')\r\n",
        "\r\n",
        "plt.suptitle('Original vs Sorted')\r\n",
        "plt.plot(idx, sorted(len_list),'r')\r\n",
        "plt.fill_between(idx, len_list, color='blue', alpha=0.3)\r\n",
        "plt.show()"
      ],
      "execution_count": null,
      "outputs": []
    },
    {
      "cell_type": "markdown",
      "metadata": {
        "id": "FD2LGJm7-wfO"
      },
      "source": [
        "It doesn't seem to follow sentences, paragraphs, headlines nor articles per element. More like a textual hoshposh or information potpourie. This requires further inspection."
      ]
    },
    {
      "cell_type": "code",
      "metadata": {
        "id": "D0JPfY6nQbNi"
      },
      "source": [
        "df_1939.iloc[240900,2]"
      ],
      "execution_count": null,
      "outputs": []
    },
    {
      "cell_type": "code",
      "metadata": {
        "id": "m6OhAFLJSo63"
      },
      "source": [
        ""
      ],
      "execution_count": null,
      "outputs": []
    },
    {
      "cell_type": "code",
      "metadata": {
        "id": "jOiCG1Mf9m6T"
      },
      "source": [
        "#Lets look for the larger texts\r\n",
        "for x in element_length:\r\n",
        "  if x > 7000:\r\n",
        "    print(x)"
      ],
      "execution_count": null,
      "outputs": []
    },
    {
      "cell_type": "code",
      "metadata": {
        "id": "cXoHAfYaoOBh"
      },
      "source": [
        "#Inverse dictionary workaround\r\n",
        "Dict = {idx[i]: len_list[i] for i in range(len(len_list))}\r\n",
        "key = next(key for key, value in Dict.items() if value == 7276)\r\n",
        "df_1939.iloc[key,2]"
      ],
      "execution_count": null,
      "outputs": []
    },
    {
      "cell_type": "code",
      "metadata": {
        "id": "je9hW-_hp925"
      },
      "source": [
        "#The data is very skewed.\r\n",
        "for x in element_length:\r\n",
        "  if x > 6000 and x < 7000:\r\n",
        "    print(x)"
      ],
      "execution_count": null,
      "outputs": []
    },
    {
      "cell_type": "code",
      "metadata": {
        "id": "FfiZ94a0qXDx"
      },
      "source": [
        "key = next(key for key, value in Dict.items() if value == 6281)\r\n",
        "df_1939.iloc[key,2]"
      ],
      "execution_count": null,
      "outputs": []
    },
    {
      "cell_type": "code",
      "metadata": {
        "id": "Wpr_lequRO16"
      },
      "source": [
        "#The data is very skewed.\r\n",
        "X, XX= 0,0\r\n",
        "for x in element_length:\r\n",
        "  if x > 0 and x < 50:\r\n",
        "    X += 1\r\n",
        "    XX += x\r\n",
        "print(f'There are {X:,} entries with less than 50 characters with a mean of {round(XX/X,2)}. \\nThese are {round(X/len(len_list)*100,2)}% of the total elements.')"
      ],
      "execution_count": null,
      "outputs": []
    },
    {
      "cell_type": "code",
      "metadata": {
        "id": "mQNYJGbZjV0Z"
      },
      "source": [
        "print('Nonsensical elements:\\n\\n',df_1939.iloc[15,2])"
      ],
      "execution_count": null,
      "outputs": []
    },
    {
      "cell_type": "code",
      "metadata": {
        "id": "rLYGZOWkhyo6"
      },
      "source": [
        ""
      ],
      "execution_count": null,
      "outputs": []
    },
    {
      "cell_type": "code",
      "metadata": {
        "id": "0z5tfSnRhxby"
      },
      "source": [
        ""
      ],
      "execution_count": null,
      "outputs": []
    },
    {
      "cell_type": "code",
      "metadata": {
        "id": "0ymyGpJKbgwk"
      },
      "source": [
        "len(len_list)"
      ],
      "execution_count": null,
      "outputs": []
    },
    {
      "cell_type": "code",
      "metadata": {
        "id": "CXdjBJtVkfOA"
      },
      "source": [
        "import numpy as np\r\n",
        "mean_ = np.mean(len_list)\r\n",
        "mean_"
      ],
      "execution_count": null,
      "outputs": []
    },
    {
      "cell_type": "code",
      "metadata": {
        "id": "b_ZPLL4TlFV3"
      },
      "source": [
        "np.median(len_list)"
      ],
      "execution_count": null,
      "outputs": []
    },
    {
      "cell_type": "markdown",
      "metadata": {
        "id": "OeL7Cnv4iwvk"
      },
      "source": [
        ""
      ]
    },
    {
      "cell_type": "code",
      "metadata": {
        "id": "L0W8ASJ2lkgV"
      },
      "source": [
        "plt.plot(idx, sorted(len_list),'r')\r\n",
        "plt.style.use(['dark_background'])\r\n",
        "plt.show()"
      ],
      "execution_count": null,
      "outputs": []
    },
    {
      "cell_type": "code",
      "metadata": {
        "id": "UdmG4YD8FXQH"
      },
      "source": [
        "%%time\r\n",
        "Adata = []\r\n",
        "pre, suf = './df_', '.csv'\r\n",
        "\r\n",
        "for x in range(0,100):\r\n",
        "  Dir = pre+str(1920 + x)+suf\r\n",
        "  Adata.append(pd.read_csv(Dir))\r\n",
        "  '''\r\n",
        "  with open(Dir,'r') as f:\r\n",
        "    con = f.content_file.read()\r\n",
        "    n = 100 - x\r\n",
        "    A[n].append(con)\r\n",
        "[print(y) for y in range(0,5)] '''\r\n",
        "\r\n",
        "len(Adata)\r\n"
      ],
      "execution_count": null,
      "outputs": []
    },
    {
      "cell_type": "code",
      "metadata": {
        "id": "akHNkZ5hRbhg"
      },
      "source": [
        "print(f'Adata is a list of {len(Adata)} DataFrames')\r\n",
        "type(Adata[96]) #The type for the 96th and all items in the list."
      ],
      "execution_count": null,
      "outputs": []
    },
    {
      "cell_type": "code",
      "metadata": {
        "id": "FN_l3hqDG8aL"
      },
      "source": [
        "print(f'Adata is a list of {len(Adata)} DataFrames')\r\n",
        "type(Adata[96]) #The type for the 96th and all items in the list."
      ],
      "execution_count": null,
      "outputs": []
    },
    {
      "cell_type": "code",
      "metadata": {
        "id": "d1AItoFiMA4R"
      },
      "source": [
        "type(Adata[1]))"
      ],
      "execution_count": null,
      "outputs": []
    },
    {
      "cell_type": "code",
      "metadata": {
        "id": "0P5uXk0njNX9"
      },
      "source": [
        ""
      ],
      "execution_count": null,
      "outputs": []
    }
  ]
}
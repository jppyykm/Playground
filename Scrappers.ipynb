{
  "nbformat": 4,
  "nbformat_minor": 0,
  "metadata": {
    "colab": {
      "name": "Scrappers.ipynb",
      "provenance": [],
      "collapsed_sections": [],
      "authorship_tag": "ABX9TyMB3EEQ/lbr8ikt22lrHdEh",
      "include_colab_link": true
    },
    "kernelspec": {
      "name": "python3",
      "display_name": "Python 3"
    }
  },
  "cells": [
    {
      "cell_type": "markdown",
      "metadata": {
        "id": "view-in-github",
        "colab_type": "text"
      },
      "source": [
        "<a href=\"https://colab.research.google.com/github/jppyykm/Playground/blob/master/Scrappers.ipynb\" target=\"_parent\"><img src=\"https://colab.research.google.com/assets/colab-badge.svg\" alt=\"Open In Colab\"/></a>"
      ]
    },
    {
      "cell_type": "code",
      "metadata": {
        "id": "jErzJLbG-A5i"
      },
      "source": [
        "import requests, re\r\n",
        "from bs4 import BeautifulSoup\r\n"
      ],
      "execution_count": null,
      "outputs": []
    },
    {
      "cell_type": "markdown",
      "metadata": {
        "id": "3GJ9GdBk-J3L"
      },
      "source": [
        "#Scrappers"
      ]
    },
    {
      "cell_type": "code",
      "metadata": {
        "id": "yn2lnu81-LON"
      },
      "source": [
        "def WAPO(url): #For Washington Post links\r\n",
        "  soup = BeautifulSoup(requests.get(url).content, 'html.parser')\r\n",
        "  rawtext = str(soup.findAll(\"p\"))\r\n",
        "  text = re.sub(r'<.+?>', '', str(rawtext)) #Removes tags between < >\r\n",
        "\r\n",
        "  lest = text.split(\"Coronavirus maps\")\r\n",
        "  text = lest[0]\r\n",
        "  text = text.replace(u'\\xa0', u' ')\r\n",
        "  text = re.sub(r'\\.\\,','.',text) #removes de ,.\r\n",
        "  return text"
      ],
      "execution_count": null,
      "outputs": []
    },
    {
      "cell_type": "code",
      "metadata": {
        "id": "C41Y6K0W-Ny5"
      },
      "source": [
        "def NYPO(site): #NY Post \r\n",
        "    #s = requests.Session()\r\n",
        "    #s.get(site, headers={'user-agent': 'My app'})\r\n",
        "\r\n",
        "    soup = BeautifulSoup(requests.get(site).content, 'html.parser')\r\n",
        "    #soup = BeautifulSoup(requests.get(site).content, headers={'user-agent': 'My app'})\r\n",
        "    \r\n",
        "    text = soup.findAll(\"div\", {\"class\": \"entry-content entry-content-read-more\"})\r\n",
        "    text = re.sub(r'<.+?>', '', str(text)) #Removes tags between < >\r\n",
        "    text = re.sub(r'[\\[\\]]', '', text)## removes the initial [ and ] \r\n",
        "    text = re.sub(r'\\.(?=[^ .])', '. ', text, flags=re.MULTILINE) ## insert ' ' to .UPERCASE like he fell.Governor Andrew in the .G to . G \r\n",
        "    text = \"\".join(text.split('\\n'))\r\n",
        "    text = \"\".join(text.split('\\t'))\r\n",
        "    text = text.replace(u'\\xa0', u' ')\r\n",
        "    text = text.split(\"Share this\") #Removes tail\r\n",
        "    \r\n",
        "    out = str(text[0])\r\n",
        "    return out"
      ],
      "execution_count": null,
      "outputs": []
    },
    {
      "cell_type": "code",
      "metadata": {
        "id": "Kx5d1syQ_K60"
      },
      "source": [
        "def HCRO(site): #Houston Chronicle\r\n",
        "    soup = BeautifulSoup(requests.get(site).content, 'html.parser')\r\n",
        "\r\n",
        "    text = soup.findAll(\"p\")\r\n",
        "    text = re.sub(r'<.+?>', '', str(text)) #Removes tags between < >\r\n",
        "    text = \"\".join(text.split('\\n'))\r\n",
        "    text = \"\".join(text.split('\\t'))\r\n",
        "    text = re.sub(r'[\\[\\]]', '', text)\r\n",
        "\r\n",
        "    return text\r\n"
      ],
      "execution_count": null,
      "outputs": []
    },
    {
      "cell_type": "code",
      "metadata": {
        "id": "HHmGy2rKABKD",
        "colab": {
          "base_uri": "https://localhost:8080/",
          "height": 52
        },
        "outputId": "17d962fe-2a3d-4dbd-d246-db7585537a06"
      },
      "source": [
        "def NYTI(url): #New York Times\n",
        "  soup = BeautifulSoup(requests.get(url).content,'html.parser')\n",
        "  text = soup.findAll(\"p\")\n",
        "  text = re.sub(r'<.+?>', '', str(text)) #Removes tags between < >\n",
        "  text = text.split(\"[Advertisement, Supported by, \")\n",
        "  text = text[1].split(\", Advertisement\")\n",
        "  text = text[0]\n",
        "  text = re.sub(r'\\.\\,','.',text) #removes de ,.\n",
        "  return text\n",
        "#There are issues with extra fluff text in some articles\n",
        "'''a = 'https://www.nytimes.com/2021/01/20/us/politics/biden-president.html?action=click&module=Spotlight&pgtype=Homepage'\n",
        "b = 'https://www.nytimes.com/2021/01/20/opinion/biden-inauguration-trump.html?action=click&module=Opinion&pgtype=Homepage'\n",
        "print(NYTI(a))\n",
        "print(NYTI(b))'''"
      ],
      "execution_count": null,
      "outputs": [
        {
          "output_type": "execute_result",
          "data": {
            "application/vnd.google.colaboratory.intrinsic+json": {
              "type": "string"
            },
            "text/plain": [
              "\"a = 'https://www.nytimes.com/2021/01/20/us/politics/biden-president.html?action=click&module=Spotlight&pgtype=Homepage'\\nb = 'https://www.nytimes.com/2021/01/20/opinion/biden-inauguration-trump.html?action=click&module=Opinion&pgtype=Homepage'\\nprint(NYTI(a))\\nprint(NYTI(b))\""
            ]
          },
          "metadata": {
            "tags": []
          },
          "execution_count": 47
        }
      ]
    },
    {
      "cell_type": "code",
      "metadata": {
        "colab": {
          "base_uri": "https://localhost:8080/"
        },
        "id": "JNQd-JFrDPek",
        "outputId": "51ecf6c1-843d-4f54-c393-e4f28ccf1997"
      },
      "source": [
        "def GUAR(url): #The Guardian \n",
        "  soup = BeautifulSoup(requests.get(url).content,'html.parser')\n",
        "  text = soup.findAll(\"p\")\n",
        "  text = re.sub(r'<.+?>', '', str(text)) #Removes tags between < >\n",
        "  text = text.split('GMT')\n",
        "  text = text[1][2:-1] #Some finessing \n",
        "  return text\n",
        "\n",
        "a = 'https://www.theguardian.com/environment/2021/jan/20/paris-climate-accord-joe-biden-returns-us'\n",
        "print(GUAR(a))"
      ],
      "execution_count": null,
      "outputs": [
        {
          "output_type": "stream",
          "text": [
            "Joe Biden has moved to reinstate the US to the Paris climate agreement just hours after being sworn in as president, as his administration rolls out a cavalcade of executive orders aimed at tackling the climate crisis., Biden’s executive action, signed in the White House on Wednesday, will see the US rejoin the international effort curb the dangerous heating of the planet, following a 30-day notice period. The world’s second largest emitter of greenhouse gases was withdrawn from the Paris deal under Donald Trump., , Biden is also set to block the Keystone XL pipeline, a bitterly contested project that would bring huge quantities of oil from Canada to the US to be refined, and halt oil and gas drilling at Bears Ears and Grand Staircase-Escalante, two vast national monuments in Utah, and the Arctic national wildlife refuge wilderness. The Trump administration’s decision to shrink the protected areas of Bears Ears and Grand Staircase-Escalante will also be reviewed., The flurry of first-day action on the climate crisis came after Biden, in his inauguration speech, said America needed to respond to a “climate in crisis”. The change in direction from the Trump era was profound and immediate – on the White House website, where all mentions of climate were scrubbed out in 2017, a new list of priorities now puts the climate crisis second only behind the Covid pandemic. Biden has previously warned that climate change poses the “greatest threat” to the country, which was battered by record climate-fueled wildfires, hurricanes and heat last year., The re-entry to the Paris agreement ends a period where the US became a near-pariah on the international stage with Trump’s refusal to address the unfolding disaster of rising global temperatures. Countries are struggling to meet commitments, made in Paris in 2015, to limit the global temperature increase to 1.5C above the pre-industrial era, with 2020 setting another record for extreme heat., “It’s just a huge day to get rid of this myopic, benighted administration and welcome in a new president who manifestly is committed to strong, meaningful action,” said Todd Stern, who was the lead US negotiator in Paris. “Rejoining Paris is just the first step, but it’s a big first step.”, Biden is expected to convene an international climate summit in the spring to help accelerate emissions cuts and will probably submit a new US emissions reduction goal to help it reach net zero emissions by 2050. “We can’t be afraid or diffident about exercising leadership again but we need a sense of humility in light of what has occurred over the past four years,” Stern said of America’s return to climate diplomacy. “The message is ‘we are back, let’s move hard.’ It will be deliberate, aggressive and strategic.”, Gina McCarthy, Biden’s top climate adviser, said Biden will in all reverse “more than 100” climate-related policies enacted by Trump., The twice-impeached Republican repeatedly dismissed the science of climate change and spent his term as president weakening or overturning rules to limit pollution from cars, trucks and power plants. McCarthy said climate change poses an “existential threat” and the administration’s opening salvo “will begin to put the US back on the right footing, a footing we need to restore American leadership, helping to position our nation to be the global leader in clean energy and jobs”., Biden will be able to unilaterally limit fossil fuel development on federal land and set tougher rules for fuel efficiency in cars and trucks but sweeping climate legislation to make deeper cuts in emissions will be more challenging to get through Congress., While Democrats control the House, the Senate is split 50-50 and is unlikely to embrace anything styled like the Green New Deal, which has been championed by progressive representatives such as Alexandra Ocasio-Cortez. Instead, Biden’s hopes of providing huge financial support to boost clean energy such as solar and wind may rely upon funding being included in budgets and infrastructure bills., “There is a serious backlog of needs in water systems, roads and bridges and other things and my colleagues understand that,” said Kathy Castor, a Florida Democrat who chairs the House’s select committee on the climate crisis. “We know we must go much further much faster. This is a race to the future.”, Scientists and climate campaigners have welcomed the urgency voiced by Biden given the ever-worsening impacts of the climate crisis across the world., “Even if we can’t get new climate legislation, our executive branch already has many tools to act,” said Leah Stokes, an expert in environmental policy at the University of California. “The best time to cut emissions was decades ago; the second-best time is today.”\n"
          ],
          "name": "stdout"
        }
      ]
    },
    {
      "cell_type": "code",
      "metadata": {
        "colab": {
          "base_uri": "https://localhost:8080/"
        },
        "id": "8ISO_a3wGaSO",
        "outputId": "81f1766d-919c-4df9-846d-7a6c3161c0fa"
      },
      "source": [
        "def XINH(url): #Xinhuanet \n",
        "  soup = BeautifulSoup(requests.get(url).content,'html.parser')\n",
        "  text = soup.findAll(\"p\")\n",
        "  text = re.sub(r'<.+?>', '', str(text)) #Removes tags between < >\n",
        "  text = re.sub(r'\\.\\,','.',text) #removes de ,.\n",
        "  text = text.split(\"Enditem\")\n",
        "  text = text[0][3:] #Some finessing  soup = BeautifulSoup(requests.get(url).content,'html.parser')\n",
        "  return text\n",
        "\n",
        "a = 'http://www.xinhuanet.com/english/2021-01/20/c_139684651.htm'\n",
        "print(XINH(a))"
      ],
      "execution_count": null,
      "outputs": [
        {
          "output_type": "stream",
          "text": [
            "Li Zhanshu, chairman of the National People's Congress (NPC) Standing Committee, takes part in the group discussion to review several bills, including a draft revision to the Law on Animal Epidemic Prevention, a draft revision to the Administrative Penalty Law and a draft decision on establishing the Beijing Financial Court during the 25th session of the 13th NPC Standing Committee in Beijing, capital of China, Jan. 20, 2021. (Xinhua/Gao Jie), BEIJING, Jan. 20 (Xinhua) -- Chinese lawmakers held group discussions on Wednesday to review several bills, including a draft revision to the Law on Animal Epidemic Prevention and a draft decision on establishing the Beijing Financial Court. The discussions took place during the ongoing session of the Standing Committee of the National People's Congress (NPC), China's top legislature, with Li Zhanshu, chairman of the NPC Standing Committee, taking part. The legislators said it is imperative to amend the Law on Animal Epidemic Prevention as the country seeks to better safeguard biosecurity and public health security, and they suggested the draft be passed during the session. Lawmakers also deliberated a draft revision to the Administrative Penalty Law and a draft decision on establishing the Beijing Financial Court. Suggestions on improving the drafts were raised during the discussions. They agreed that it is necessary to establish the court to improve China's judicial system for finance-related cases and further enhance the country's say in the international financial judiciary field. \n"
          ],
          "name": "stdout"
        }
      ]
    },
    {
      "cell_type": "code",
      "metadata": {
        "colab": {
          "base_uri": "https://localhost:8080/"
        },
        "id": "f4Y57GkYHdT7",
        "outputId": "6b4372f6-0036-4961-a057-28f784dbb1bc"
      },
      "source": [
        "def TELE(url): #Telegram\n",
        "  soup = BeautifulSoup(requests.get(url).content,'html.parser')\n",
        "  text = soup.findAll(\"p\")\n",
        "  text = re.sub(r'<.+?>', '', str(text)) #Removes tags between < >\n",
        "  text = re.sub(r\"\\n\",'',str(text))\n",
        "  text = text.split('We rely on advertising')\n",
        "  text = text[0][1:-2]\n",
        "  return text\n",
        "#Wouldnt let me read a single article free, couldnt adjust properly\n",
        "a = 'https://www.telegraph.co.uk/news/2021/01/20/ministers-fear-storm-christoph-could-hit-covid-vaccine-rollout/'\n",
        "print(TELE(a))"
      ],
      "execution_count": null,
      "outputs": [
        {
          "output_type": "stream",
          "text": [
            "Government sources say there are 'concerns around vaccine deployment' as country braces for worse conditions next week, Thousands of people in Manchester are facing evacuation from their homes because of flooding which Boris Johnson warned could get worse next week., Families already enduring lockdown have been warned that power cuts are likely, while others have been told they must be ready to leave their homes., Some 2,000 properties in Greater Manchester will be evacuated overnight due to flooding caused by Storm Christoph, the city council said., Police and firefighters were working with Manchester City Council to evacuate homes in East Didsbury, West Didsbury and Northenden on Wednesday evening., People have also been asked to leave their homes in parts of Ruthin, North Wales, and Maghull in Merseyside due to rising floodwaters., Assistant Chief Constable Nick Bailey said: \"A basin at Didsbury to take water from the Mersey is full. It will over-top in the next few hours. As a result, we will be issuing a flood warning to homes. This will be through texted flood alerts to some people and police officers, PCSOs, firefighters, and volunteers will be knocking on doors., \"To help evacuate people we will have support from North West Ambulance, the British Red Cross and St John Ambulance. We have identified about 160 people that will be moved. There will be provision at Wythenshawe Forum and hotels are being used., \"Some of those that are being evacuated will also be Covid-positive or isolating at home.\", Ministers fear Storm Christoph could halt the rollout of vaccines in some areas, with flooding threatening to close vaccination centres and interrupt the delivery of the jabs., With more than 100 flood warnings and more than 200 flood alerts issued by the Environment Agency, preparations were being made on Wednesday night for Covid-secure evacuation centres with separate accommodation for people who are shielding., Mr Johnson chaired a meeting of the Cobra emergency committee on Wednesday to discuss the response to the storm, which has already flooded parts of East Anglia and the north of England., The Prime Minister said Greater Manchester, where police say 3,000 homes could flood, was of particular concern, adding: \"We have got a situation potentially developing there. We are looking at a pattern of rainfall, possibly not so bad this week but worse possibly next week.\", He said steps were being taken to ensure that transport and energy networks were prepared so that electricity outages would not be \"severe\" and that there were sufficient supplies of sandbags., Government sources said there were \"concerns around vaccine deployment\"., Ministers have already warned that meeting a target of getting all over-70s vaccinated by February 15 will be \"tight\" following recent supply problems, and any suspension of the programme in parts of the country will mean NHS workers having to deploy vaccines even faster to catch up., A Government source said: \"At the moment the vaccination centres remain open and we are telling people they should still attend appointments, but if they are unable to get there or if the centres have to be closed we will reschedule their jabs.\", Mr Johnson's official spokesman said the Government was \"alive\" to the issue of people having to be housed in Covid-secure accommodation if they have to be evacuated, and that preparations have been made to provide rest centres in which people who are shielding will also be able to stay safe., A spokesman for the Environment Agency said one option for people who are shielding would be to stay with family or friends temporarily, which would not be in breach of lockdown laws. Going somewhere to escape the risk of harm, such as if a home might flood, is among the exemptions for leaving home under the current rules., Mr Johnson urged people to heed warnings if they are advised to evacuate because of flooding, saying: \"There are some times where I have been to scenes where, alas, people have decided not to obey the advice and not evacuated., \"It is their right not to do so if they choose – it's always people's right to stay wherever they are. But it really is advisable to follow the advice. If you are told to leave your home, then you should do so.\", The Environment Agency has 25 miles of temporary barriers which can be deployed anywhere in the country, as well as 250 high-volume pumps and 6,500 staff on standby. The Armed Forces have also been placed on standby in case they are needed to help in any rescue efforts., The flood warnings issued by the Environment Agency, which mean flooding is expected and \"immediate action is required\", mainly cover the North-West, Yorkshire and the East Midlands. Flood alerts, meaning flooding is possible, are in place from Cornwall to Northumberland., Major incidents were declared in Cheshire, Greater Manchester and South Yorkshire, with some people living on boats in Cheshire and South Yorkshire moved to hotels as a precaution., More than five inches of rain had fallen in a 24-hour period in some parts of England on ground already saturated by snow melt and earlier rain.\n"
          ],
          "name": "stdout"
        }
      ]
    },
    {
      "cell_type": "code",
      "metadata": {
        "id": "L0XP8ro8IiL0"
      },
      "source": [
        ""
      ],
      "execution_count": null,
      "outputs": []
    }
  ]
}